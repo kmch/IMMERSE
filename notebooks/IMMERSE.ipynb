{
 "cells": [
  {
   "cell_type": "code",
   "execution_count": null,
   "metadata": {},
   "outputs": [],
   "source": []
  },
  {
   "cell_type": "markdown",
   "metadata": {
    "heading_collapsed": true
   },
   "source": [
    "#### Notebook config"
   ]
  },
  {
   "cell_type": "code",
   "execution_count": 1,
   "metadata": {
    "code_folding": [
     0
    ],
    "hidden": true,
    "run_control": {
     "marked": true
    }
   },
   "outputs": [
    {
     "name": "stdout",
     "output_type": "stream",
     "text": [
      "Created `%mi` as an alias for `%matplotlib inline`.\n",
      "Created `%mn` as an alias for `%matplotlib notebook`.\n"
     ]
    }
   ],
   "source": [
    "# %load fwipy_config.py\n",
    "\n",
    "# -----------------------------------------------------------------------------\n",
    "# Load default modules defined in fullwavepy/__init__.py\n",
    "# -----------------------------------------------------------------------------\n",
    "from fwipy import *\n",
    "\n",
    "\n",
    "# -----------------------------------------------------------------------------\n",
    "# Set aliases of frequently used jupyter magic commands\n",
    "# -----------------------------------------------------------------------------\n",
    "%alias_magic mi matplotlib -p inline\n",
    "%alias_magic mn matplotlib -p notebook\n",
    "\n",
    "\n",
    "# -----------------------------------------------------------------------------\n",
    "# Configure matplotlib\n",
    "# -----------------------------------------------------------------------------\n",
    "# SET DEFAULT backend:\n",
    "# non-interactive plots displayed in a notebook cell\n",
    "%matplotlib inline\n",
    "# OTHER OPTIONS: %matplotlib notebook (interactive version)\n",
    "# -----------------------------------------------------------------------------\n",
    "# NOTE: ALREADY SET IN fwi.plot.specific.mpl.Fig.__init__\n",
    "# SET DEFAULT style:\n",
    "# plt.style.reload_library()\n",
    "# a combined style (right overwrites left wherever they overlap):\n",
    "# plt.style.use(['default', 'ggplot', 'fwipy'])\n",
    "# OTHER OPTIONS: print(plt.style.available)\n",
    "\n",
    "\n",
    "# -----------------------------------------------------------------------------\n",
    "# Configure logging\n",
    "# -----------------------------------------------------------------------------\n",
    "# Set up loggers, handlers etc. \n",
    "# and load the log_lvl function\n",
    "from fwipy.config.logging import *\n",
    "# -----------------------------------------------------------------------------\n",
    "# SET DEFAULT level of log-messages to display\n",
    "log_lvl(INFO)\n",
    "# OTHER OPTIONS: TRACE, DEBUG, INFO, WARNING, ERROR, CRITICAL\n",
    "# or using integers: 0, 10, 20, 30, 40, 50 respectively\n",
    "# (in order of increasing importance/dicreasing ver.shellity)\n",
    "\n",
    "\n",
    "# -----------------------------------------------------------------------------\n",
    "# Other notebook's configuration\n",
    "# -----------------------------------------------------------------------------\n",
    "# Autocompleting\n",
    "%config IPCompleter.greedy=True \n",
    "# -----------------------------------------------------------------------------\n",
    "# Automatically reload modules before execution\n",
    "#%load_ext autoreload\n",
    "#%autoreload 2"
   ]
  },
  {
   "cell_type": "code",
   "execution_count": 2,
   "metadata": {
    "hidden": true,
    "run_control": {
     "marked": true
    }
   },
   "outputs": [],
   "source": [
    "path_eph = '/home/kmc3817/rds_home/my_ephemeral/PROJECTS/20-11-19/' \n",
    "path = '/media/kmc3817/DATADRIVE1/heavy_PhD/PROJECTS/code_immerse_dev1/s01/inp/'"
   ]
  },
  {
   "cell_type": "markdown",
   "metadata": {
    "heading_collapsed": true
   },
   "source": [
    "# Synthetic surfaces"
   ]
  },
  {
   "cell_type": "code",
   "execution_count": 4,
   "metadata": {
    "hidden": true,
    "run_control": {
     "marked": true
    }
   },
   "outputs": [],
   "source": [
    "from lib_fwi_fs import FS_Create"
   ]
  },
  {
   "cell_type": "code",
   "execution_count": 40,
   "metadata": {
    "code_folding": [],
    "hidden": true,
    "run_control": {
     "marked": false
    }
   },
   "outputs": [],
   "source": [
    "# help(FS_Create)"
   ]
  },
  {
   "cell_type": "code",
   "execution_count": 5,
   "metadata": {
    "hidden": true
   },
   "outputs": [
    {
     "data": {
      "text/plain": [
       "(30, 30, 1)"
      ]
     },
     "execution_count": 5,
     "metadata": {},
     "output_type": "execute_result"
    }
   ],
   "source": [
    "fs = FS_Create('s01', pars_gen=dict(dims=(30,30,30)), pars_FS=dict(fs_type='rotated'))\n",
    "fs.shape"
   ]
  },
  {
   "cell_type": "code",
   "execution_count": 39,
   "metadata": {
    "hidden": true
   },
   "outputs": [
    {
     "data": {
      "image/png": "[encoded data removed]",
      "text/plain": [
       "<Figure size 432x288 with 1 Axes>"
      ]
     },
     "metadata": {
      "needs_background": "light"
     },
     "output_type": "display_data"
    }
   ],
   "source": [
    "lll(40)\n",
    "plt.imshow(fs[..., 0].T)\n",
    "aspeqt(plt.gca())"
   ]
  },
  {
   "cell_type": "markdown",
   "metadata": {
    "heading_collapsed": true
   },
   "source": [
    "# Interface of IMMERSE "
   ]
  },
  {
   "cell_type": "markdown",
   "metadata": {
    "hidden": true
   },
   "source": [
    "No longer supported (FIXME)."
   ]
  },
  {
   "cell_type": "markdown",
   "metadata": {
    "heading_collapsed": true,
    "hidden": true
   },
   "source": [
    "## `immerse` API"
   ]
  },
  {
   "cell_type": "code",
   "execution_count": 2,
   "metadata": {
    "hidden": true,
    "run_control": {
     "marked": true
    }
   },
   "outputs": [
    {
     "ename": "ImportError",
     "evalue": "No module named 'fwipy.immerse'",
     "output_type": "error",
     "traceback": [
      "\u001b[0;31m---------------------------------------------------------------------------\u001b[0m",
      "\u001b[0;31mImportError\u001b[0m                               Traceback (most recent call last)",
      "\u001b[0;32m<ipython-input-2-84fb75c6d6ea>\u001b[0m in \u001b[0;36m<module>\u001b[0;34m\u001b[0m\n\u001b[0;32m----> 1\u001b[0;31m \u001b[0;32mfrom\u001b[0m \u001b[0mfwipy\u001b[0m\u001b[0;34m.\u001b[0m\u001b[0mimmerse\u001b[0m\u001b[0;34m.\u001b[0m\u001b[0mgeneric\u001b[0m \u001b[0;32mimport\u001b[0m \u001b[0mImmerseAPI\u001b[0m\u001b[0;34m\u001b[0m\u001b[0m\n\u001b[0m",
      "\u001b[0;31mImportError\u001b[0m: No module named 'fwipy.immerse'"
     ]
    }
   ],
   "source": [
    "from fwipy.immerse.generic import ImmerseAPI"
   ]
  },
  {
   "cell_type": "code",
   "execution_count": 18,
   "metadata": {
    "collapsed": true,
    "hidden": true
   },
   "outputs": [
    {
     "name": "stdout",
     "output_type": "stream",
     "text": [
      "DEBUG:fwipy.immerse.fsprep.FsPrep.immerse: \n",
      "proj_name: s01\n",
      "proj_path: /media/kmc3817/DATADRIVE1/heavy_PhD/PROJECTS/code_immerse_dev1/s01/inp/\n",
      "INFO:fwipy.immerse.fsprep.FsPrep.immerse: Assuming fsprep is in the path...\n",
      "DEBUG:fwipy.shell.specific.linux.run_linux: Command to run: cd /media/kmc3817/DATADRIVE1/heavy_PhD/PROJECTS/code_immerse_dev1/s01/inp/ && fsprep s01\n",
      "DEBUG:fwipy.shell.specific.linux.run_linux: stdout:make: Entering directory '/media/kmc3817/RDS/home/my_phd/fsprep'\n",
      "make: Nothing to be done for 'all'.\n",
      "make: Leaving directory '/media/kmc3817/RDS/home/my_phd/fsprep'\n",
      " program fsprep kicks off...\n",
      " io_mod/read_runfile_params_fw3d: file not yet opened => ok.\n",
      " io_mod/read_runfile_params_fw3d: file 's01-Runfile.key' read successfully.\n",
      " io_mod/read_runfile_params_fw3d: nx1, nx2, nx3, dx:            101           1         101\n",
      " io_mod/read_runfile_params_fw3d: xtratop, xtrabot:               0          50\n",
      " io_mod/read_runfile_params_fw3d: xtraleft, xtraright:           50          50\n",
      " io_mod/read_runfile_params_fw3d: xtrafront, xtraback:            0           0\n",
      "\n",
      " io_mod/load_ghost_data: file 's01-GhostData.bin' already exists => will read it to get all the ghost data instead of proceeding with fsprep.\n",
      "\n",
      " io_mod/read_ghost_data_bin: ghosts_no         660\n",
      " io_mod/read_ghost_data_bin: normal_ghosts_no         359\n",
      " io_mod/alloc_arrays: shape(ghost_data)          82         660\n",
      " io_mod/alloc_arrays: shape(ghosts)         660\n",
      " io_mod/alloc_arrays: shape(intersects)         660\n",
      " io_mod/alloc_arrays: shape(fict_points)         660           3\n",
      " io_mod/alloc_arrays: shape(aux_nodes)         660           3           4           4\n",
      " io_mod/alloc_arrays: shape(weightsx_weightsy)         660           3           8\n",
      " io_mod/alloc_arrays: time taken:    0.0000000000000000     \n",
      " io_mod/read_ghost_data_bin: time taken:    1.6000000000000000E-002\n",
      " program fsprep finished. ellapsed time:    1.60000008E-02\n",
      "\n"
     ]
    }
   ],
   "source": [
    "lll(10)\n",
    "fsprep = ImmerseAPI.create('fsprep')\n",
    "fsprep.immerse('s01', path, 'linux', truncate=1e4)"
   ]
  },
  {
   "cell_type": "markdown",
   "metadata": {
    "heading_collapsed": true,
    "hidden": true
   },
   "source": [
    "## `seis.surf` API"
   ]
  },
  {
   "cell_type": "code",
   "execution_count": 3,
   "metadata": {
    "hidden": true,
    "run_control": {
     "marked": true
    }
   },
   "outputs": [
    {
     "ename": "ImportError",
     "evalue": "No module named 'fwipy.immerse'",
     "output_type": "error",
     "traceback": [
      "\u001b[0;31m---------------------------------------------------------------------------\u001b[0m",
      "\u001b[0;31mImportError\u001b[0m                               Traceback (most recent call last)",
      "\u001b[0;32m<ipython-input-3-2c890a5ce18e>\u001b[0m in \u001b[0;36m<module>\u001b[0;34m\u001b[0m\n\u001b[0;32m----> 1\u001b[0;31m \u001b[0;32mfrom\u001b[0m \u001b[0mfwipy\u001b[0m\u001b[0;34m.\u001b[0m\u001b[0mseis\u001b[0m\u001b[0;34m.\u001b[0m\u001b[0msurf\u001b[0m \u001b[0;32mimport\u001b[0m \u001b[0;34m*\u001b[0m\u001b[0;34m\u001b[0m\u001b[0m\n\u001b[0m",
      "\u001b[0;32m~/software/fwipy/fwipy/seis/surf.py\u001b[0m in \u001b[0;36m<module>\u001b[0;34m\u001b[0m\n\u001b[1;32m     11\u001b[0m \u001b[0;31m# from fullwavepy.generic.decor import timer\u001b[0m\u001b[0;34m\u001b[0m\u001b[0;34m\u001b[0m\u001b[0m\n\u001b[1;32m     12\u001b[0m \u001b[0;31m# from fullwavepy.generic.parse import kw, del_kw\u001b[0m\u001b[0;34m\u001b[0m\u001b[0;34m\u001b[0m\u001b[0m\n\u001b[0;32m---> 13\u001b[0;31m \u001b[0;32mfrom\u001b[0m \u001b[0mfwipy\u001b[0m\u001b[0;34m.\u001b[0m\u001b[0mimmerse\u001b[0m\u001b[0;34m.\u001b[0m\u001b[0mgeneric\u001b[0m \u001b[0;32mimport\u001b[0m \u001b[0mImmerseAPI\u001b[0m\u001b[0;34m\u001b[0m\u001b[0m\n\u001b[0m\u001b[1;32m     14\u001b[0m \u001b[0;34m\u001b[0m\u001b[0m\n\u001b[1;32m     15\u001b[0m \u001b[0;34m\u001b[0m\u001b[0m\n",
      "\u001b[0;31mImportError\u001b[0m: No module named 'fwipy.immerse'"
     ]
    }
   ],
   "source": [
    "from fwipy.seis.surf import *"
   ]
  },
  {
   "cell_type": "code",
   "execution_count": 8,
   "metadata": {
    "hidden": true
   },
   "outputs": [
    {
     "name": "stdout",
     "output_type": "stream",
     "text": [
      "INFO:fwipy.immerse.fsprep.FsPrep.immerse: Assuming fsprep is in the path...\n"
     ]
    }
   ],
   "source": [
    "lll(20)\n",
    "FreeSurface().immerse('fsprep', 's01', path, 'linux', truncate=1e4)"
   ]
  },
  {
   "cell_type": "markdown",
   "metadata": {},
   "source": [
    "# ..."
   ]
  }
 ],
 "metadata": {
  "kernelspec": {
   "display_name": "Python 3",
   "language": "python",
   "name": "python3"
  },
  "language_info": {
   "codemirror_mode": {
    "name": "ipython",
    "version": 3
   },
   "file_extension": ".py",
   "mimetype": "text/x-python",
   "name": "python",
   "nbconvert_exporter": "python",
   "pygments_lexer": "ipython3",
   "version": "3.5.2"
  },
  "latex_envs": {
   "LaTeX_envs_menu_present": true,
   "autoclose": false,
   "autocomplete": true,
   "bibliofile": "biblio.bib",
   "cite_by": "apalike",
   "current_citInitial": 1,
   "eqLabelWithNumbers": true,
   "eqNumInitial": 1,
   "hotkeys": {
    "equation": "Ctrl-E",
    "itemize": "Ctrl-I"
   },
   "labels_anchors": false,
   "latex_user_defs": false,
   "report_style_numbering": false,
   "user_envs_cfg": false
  },
  "toc": {
   "base_numbering": 1,
   "nav_menu": {},
   "number_sections": false,
   "sideBar": false,
   "skip_h1_title": false,
   "title_cell": "Table of Contents",
   "title_sidebar": "Contents",
   "toc_cell": false,
   "toc_position": {},
   "toc_section_display": true,
   "toc_window_display": false
  }
 },
 "nbformat": 4,
 "nbformat_minor": 2
}
